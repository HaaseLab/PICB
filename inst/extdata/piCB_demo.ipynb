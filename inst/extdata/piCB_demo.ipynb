{
 "cells": [
  {
   "cell_type": "markdown",
   "metadata": {},
   "source": [
    "# PICB Workflow - Jupyter Notebook"
   ]
  },
  {
   "cell_type": "markdown",
   "metadata": {},
   "source": [
    "✅ R versions 4.2 - 4.4 <br>\n",
    "✅ Jupyter Notebook on your local machine <br>\n",
    "✅ Jupyter Notebook on Biowulf <br>\n",
    "✅ IRkernel in Cursor AI (fork of VScode)"
   ]
  },
  {
   "cell_type": "markdown",
   "metadata": {},
   "source": [
    "The other file in this folder provides the same version of this script but in R Script format."
   ]
  },
  {
   "cell_type": "markdown",
   "metadata": {},
   "source": [
    "## Data preparation"
   ]
  },
  {
   "cell_type": "markdown",
   "metadata": {},
   "source": [
    "For the demo, we are using a subset of our mapped small RNAs from Drosophila ovaries (SRR7346241). In short, we trimmed the 3’ adaptor and filtered for reads ≥24 nucleotides. Next, we removed abundant cellular RNAs (rRNAs, tRNAs, snRNAs, snoRNAs) by annotation. Finally, we mapped the processed reads to the Dm6 genome using STAR (PMID: 23104886) allowing up to one mismatch and 100 alignments per read. Using samtools (PMID: 19505943), we extracted alignments from chr2L:20000000-21000000 (samtools view -b original.bam chr2L:20000000-21000000 > subset.bam) and generated a subset drosophila genome containing only chromosome 2 (samtools faidx Dm6_genome.fa chr2L chr2R > subset_genome.fa)."
   ]
  },
  {
   "cell_type": "markdown",
   "metadata": {},
   "source": [
    "## Technical requirements "
   ]
  },
  {
   "cell_type": "code",
   "execution_count": null,
   "metadata": {
    "vscode": {
     "languageId": "r"
    }
   },
   "outputs": [],
   "source": [
    "# Check successful installation of supported R version \n",
    "R.version.string"
   ]
  },
  {
   "cell_type": "code",
   "execution_count": null,
   "metadata": {
    "vscode": {
     "languageId": "r"
    }
   },
   "outputs": [],
   "source": [
    "# Install required R packages from CRAN and Bioconductor\n",
    "# a. CRAN packages\n",
    "cran_packages <- c(\"data.table\", \"seqinr\", \"openxlsx\", \"dplyr\")\n",
    "if (length(setdiff(cran_packages, installed.packages()[,\"Package\"])) > 0) \n",
    "    install.packages(setdiff(cran_packages, installed.packages()[,\"Package\"]), \n",
    "    quiet = TRUE) else \n",
    "    message(\"All required CRAN packages are already installed.\")"
   ]
  },
  {
   "cell_type": "code",
   "execution_count": null,
   "metadata": {
    "vscode": {
     "languageId": "r"
    }
   },
   "outputs": [],
   "source": [
    "# b. Install BiocManager\n",
    "if (!require(\"BiocManager\", quietly = TRUE)) install.packages(\"BiocManager\")"
   ]
  },
  {
   "cell_type": "code",
   "execution_count": null,
   "metadata": {
    "vscode": {
     "languageId": "r"
    }
   },
   "outputs": [],
   "source": [
    "# c. Install Bioconductor packages\n",
    "bio_packages <- c(\"BiocManager\", \"IRanges\", \"GenomicRanges\", \"GenomicAlignments\", \"Rsamtools\", \"Biostrings\", \"GenomeInfoDb\", \"BSgenome\", \"rtracklayer\")\n",
    "if (length(setdiff(bio_packages, installed.packages()[,\"Package\"])) > 0) BiocManager::install(setdiff(bio_packages, installed.packages()[,\"Package\"]), ask = FALSE) else message(\"All required Bioconductor packages are already installed.\")"
   ]
  },
  {
   "cell_type": "markdown",
   "metadata": {},
   "source": [
    "## Installation of PICB "
   ]
  },
  {
   "cell_type": "markdown",
   "metadata": {},
   "source": [
    "Just run one of the following options. <br>If you need to install the demo BAM and BAI files to follow this demonstration with the provided sample, follow the installation instructions in options c or d."
   ]
  },
  {
   "cell_type": "code",
   "execution_count": null,
   "metadata": {
    "vscode": {
     "languageId": "r"
    }
   },
   "outputs": [],
   "source": [
    "# a. Through devtools-package\n",
    "devtools::install_github(\"HaaseLab/PICB\")\n",
    "# b. Through remotes-package\n",
    "#remotes::install_github(\"HaaseLab/PICB\")\n",
    "# c. Download GitHub repository, unzip the file and run: \n",
    "#install.packages(\"../../PICB\", repos=NULL, type=\"source\")\n",
    "# d. Clone GitHub repository in terminal\n",
    "#cd [folder name]\n",
    "#git clone https://github.com/HaaseLab/PICB.git"
   ]
  },
  {
   "cell_type": "code",
   "execution_count": null,
   "metadata": {
    "vscode": {
     "languageId": "r"
    }
   },
   "outputs": [],
   "source": [
    "# Load PICB\n",
    "library(\"PICB\") "
   ]
  },
  {
   "cell_type": "markdown",
   "metadata": {},
   "source": [
    "## Core-PICB"
   ]
  },
  {
   "cell_type": "markdown",
   "metadata": {},
   "source": [
    "### Load the reference genome"
   ]
  },
  {
   "cell_type": "code",
   "execution_count": null,
   "metadata": {
    "vscode": {
     "languageId": "r"
    }
   },
   "outputs": [],
   "source": [
    "# Provide reference genome (just run 1 option)\n",
    "# a. Install and load a BSgenome\n",
    "#BiocManager::install(\"BSgenome.Dmelanogaster.UCSC.dm6\")\n",
    "myGenome <- \"BSgenome.Dmelanogaster.UCSC.dm6\"\n",
    "# b. Provide a Seqinfo object containing the chromosome names and lengths according to the BAM file.\n",
    "#myGenome <- GenomeInfoDb::Seqinfo(genome = \"dm6\")\n",
    "# c. Provide a fasta file containing the reference genome sequence.\n",
    "#myGenome <- PICBloadfasta(\"dm6.fa\")"
   ]
  },
  {
   "cell_type": "markdown",
   "metadata": {},
   "source": [
    "### Load mapped piRNA data"
   ]
  },
  {
   "cell_type": "code",
   "execution_count": null,
   "metadata": {
    "vscode": {
     "languageId": "r"
    }
   },
   "outputs": [],
   "source": [
    "# Run the function PICBload to import and organize the mapped reads in GRanges format.\n",
    "myAlignments <- PICBload(BAMFILE=\"Fly_Ov1_chr2L_20To21mb_filtered.bam\", REFERENCE.GENOME=myGenome)"
   ]
  },
  {
   "cell_type": "markdown",
   "metadata": {},
   "source": [
    "### Build piRNA clusters"
   ]
  },
  {
   "cell_type": "code",
   "execution_count": null,
   "metadata": {
    "vscode": {
     "languageId": "r"
    }
   },
   "outputs": [],
   "source": [
    "# Run PICBbuild to construct piRNA clusters.\n",
    "myClusters <- PICBbuild(IN.ALIGNMENTS=myAlignments, REFERENCE.GENOME= myGenome, LIBRARY.SIZE = 12799826)$clusters"
   ]
  },
  {
   "cell_type": "markdown",
   "metadata": {},
   "source": [
    "Library size usually doesn't need to be set, but we are dealing with a sample that does not contain all reads, so normalization is altered."
   ]
  },
  {
   "cell_type": "markdown",
   "metadata": {},
   "source": [
    "### Optimize PICB parameters"
   ]
  },
  {
   "cell_type": "markdown",
   "metadata": {},
   "source": [
    "Expect a warning due to the modified LIBRARY.SIZE, which does not match the number of reads in IN.ALIGNMENTS."
   ]
  },
  {
   "cell_type": "code",
   "execution_count": null,
   "metadata": {
    "vscode": {
     "languageId": "r"
    }
   },
   "outputs": [],
   "source": [
    "parameterExploration <- PICBoptimize(IN.ALIGNMENTS = myAlignments, REFERENCE.GENOME=myGenome, MIN.UNIQUE.ALIGNMENTS.PER.WINDOW=c(1,2,4,5,8,10,15,20), LIBRARY.SIZE = 12799826, VERBOSITY=0)"
   ]
  },
  {
   "cell_type": "code",
   "execution_count": null,
   "metadata": {
    "vscode": {
     "languageId": "r"
    }
   },
   "outputs": [],
   "source": [
    "parameterExploration"
   ]
  },
  {
   "cell_type": "markdown",
   "metadata": {},
   "source": [
    "A thorough parameter exploration for a subset of alignments is not particularly useful here. Nevertheless, we provide the code below to visualize the exploration of different values for MIN.UNIQUE.ALIGNMENTS.PER.WINDOW for the reads (\"library\") and the genome space covered by piRNA clusters."
   ]
  },
  {
   "cell_type": "code",
   "execution_count": null,
   "metadata": {
    "vscode": {
     "languageId": "r"
    }
   },
   "outputs": [],
   "source": [
    "library(ggplot2)\n",
    "#Specify parameter to optimize for.\n",
    "x_column <- \"MIN.UNIQUE.ALIGNMENTS.PER.WINDOW\" #change parameter to optimize, if applicable\n",
    "\n",
    "#Determine a scaling factor for the secondary axis\n",
    "scaling_factor<-max(parameterExploration$fraction.of.library.explained.by.clusters)/max(parameterExploration$clusters.fraction.of.genome.space)\n",
    "\n",
    "#plot graph\n",
    "ggplot(parameterExploration, aes(x = .data[[x_column]])) +\n",
    "    geom_line(aes(y = fraction.of.library.explained.by.clusters*100, color = \"piRNAs Explained\"), linewidth = 1) +\n",
    "    geom_point(aes(y = fraction.of.library.explained.by.clusters*100, color = \"piRNAs Explained\"), size = 3) +\n",
    "    geom_line(aes(y = clusters.fraction.of.genome.space * scaling_factor*100, color = \"Genome Space\"), linewidth = 1) +\n",
    "    geom_point(aes(y = clusters.fraction.of.genome.space * scaling_factor*100, color = \"Genome Space\"), size = 3) +\n",
    "    scale_y_continuous(name = \"piRNAs Explained by Clusters (%, piRNA sample)\", limits = c(0,100), breaks=seq(0,100,10), sec.axis = sec_axis(~./scaling_factor, name = \"Total piRNA cluster-length (Genome, %)\")) +\n",
    "    scale_x_reverse(name = stringr::str_to_title(gsub(\"\\\\.\", \" \", x_column)), breaks = parameterExploration[[x_column]], labels = parameterExploration[[x_column]]) +\n",
    "    scale_color_manual(name = \"Metrics\", values = c(\"piRNAs Explained\" = \"#00a100\", \"Genome Space\" = \"black\")) +\n",
    "    theme_classic() + \n",
    "    theme(axis.title.y.left = element_text(color = \"#00a100\"), axis.title.y.right = element_text(color = \"black\"),legend.position = \"top\")\n"
   ]
  },
  {
   "cell_type": "markdown",
   "metadata": {},
   "source": [
    "If needed modify paramater(s) in PICBbuild (not needed for the PICB-demonstration)."
   ]
  },
  {
   "cell_type": "markdown",
   "metadata": {},
   "source": [
    "## Dealing with the results"
   ]
  },
  {
   "cell_type": "markdown",
   "metadata": {},
   "source": [
    "### Rank piRNA clusters"
   ]
  },
  {
   "cell_type": "code",
   "execution_count": null,
   "metadata": {
    "vscode": {
     "languageId": "r"
    }
   },
   "outputs": [],
   "source": [
    "# one option is to rank by FPM:\n",
    "myClusters <- myClusters[order(-mcols(myClusters)$all_reads_primary_alignments_FPM)]\n",
    "mcols(myClusters)$rank_all_reads_primary_alignments_FPM <- rank(-mcols(myClusters)$all_reads_primary_alignments_FPM)"
   ]
  },
  {
   "cell_type": "markdown",
   "metadata": {},
   "source": [
    "### Export piRNA clusters"
   ]
  },
  {
   "cell_type": "code",
   "execution_count": null,
   "metadata": {
    "vscode": {
     "languageId": "r"
    }
   },
   "outputs": [],
   "source": [
    "# RDS format \n",
    "saveRDS(myClusters, file=\"clusters_PICB_demo.RDS\")\n",
    "# Microsoft Excel format\n",
    "PICBexporttoexcel(RANGES= myClusters, EXCEL.FILE.NAME=\"clusters_PICB_demo.xlsx\")\n",
    "# GTF format \n",
    "myClusters$transcript_id <- paste0(\"PICB_ rank_\", myClusters$rank_all_reads_primary_alignments_FPM)\n",
    "rtracklayer::export(myClusters, \"clusters_PICB_demo.gtf\")\n"
   ]
  }
 ],
 "metadata": {
  "kernelspec": {
   "display_name": "R",
   "language": "R",
   "name": "ir"
  },
  "language_info": {
   "codemirror_mode": "r",
   "file_extension": ".r",
   "mimetype": "text/x-r-source",
   "name": "R",
   "pygments_lexer": "r",
   "version": "4.3.3"
  }
 },
 "nbformat": 4,
 "nbformat_minor": 2
}
